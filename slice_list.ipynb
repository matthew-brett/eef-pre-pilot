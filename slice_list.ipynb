{
 "cells": [
  {
   "cell_type": "markdown",
   "metadata": {},
   "source": [
    "## Slicing lists\n",
    "\n",
    "Sometimes, we want to split up lists, or get elements from lists.\n",
    "\n",
    "We can do this with list slicing."
   ]
  },
  {
   "cell_type": "code",
   "execution_count": null,
   "metadata": {},
   "outputs": [],
   "source": [
    "my_list = [5, 1, 3, 2, 7, 10]\n",
    "my_list"
   ]
  },
  {
   "cell_type": "markdown",
   "metadata": {},
   "source": [
    "How do I get the first element in the list?"
   ]
  },
  {
   "cell_type": "code",
   "execution_count": null,
   "metadata": {},
   "outputs": [],
   "source": [
    "# The first element of the list\n",
    "my_list[0]"
   ]
  },
  {
   "cell_type": "markdown",
   "metadata": {},
   "source": [
    "The number 0 in `my_list[0]`, is the list *index*.  The *index* give the\n",
    "position of the element we want.  The *index* of the first element is 0, the\n",
    "index of the second element is 1, and so on.\n",
    "\n",
    "Get the third element.\n",
    "\n",
    "Get the last element.\n",
    "\n",
    "Let’s say I only want the first 3 numbers from this list.  I can do this with\n",
    "list slicing:"
   ]
  },
  {
   "cell_type": "code",
   "execution_count": null,
   "metadata": {},
   "outputs": [],
   "source": [
    "# Get the first 3 elements\n",
    "first_3 = my_list[:3]\n",
    "first_3"
   ]
  },
  {
   "cell_type": "markdown",
   "metadata": {},
   "source": [
    "Read the colon `:` as “everything up to (but not including)”. So, you can\n",
    "read the slice expression `my_list[:3]` as “get all the elements from\n",
    "`my_list` up to, but not including, the element at position 3”.  You can\n",
    "also read this as “get the first 3 elements.\n",
    "\n",
    "Let’s say I did not want to start at the first element.  I can do this by\n",
    "putting the position that I want to start at, before the colon.  For example,\n",
    "here I get the elements at indices 2 and 3 (the third and fourth elements):"
   ]
  },
  {
   "cell_type": "code",
   "execution_count": null,
   "metadata": {},
   "outputs": [],
   "source": [
    "# Get the third and fourth elements\n",
    "third_fourth = my_list[2:4]\n",
    "third_fourth"
   ]
  },
  {
   "cell_type": "markdown",
   "metadata": {},
   "source": [
    "Get the second, third and fourth elements.\n",
    "\n",
    "If we don’t specify the index after the colon, it means “all the way to the\n",
    "end”.  So, say I wanted all the elements from position 3 (fourth element), I\n",
    "could do this:"
   ]
  },
  {
   "cell_type": "code",
   "execution_count": null,
   "metadata": {},
   "outputs": [],
   "source": [
    "# Get all the elements from position 3 (fourth element)\n",
    "my_list[3:]"
   ]
  },
  {
   "cell_type": "markdown",
   "metadata": {},
   "source": [
    "If you find the indices confusing (0 is first, 1 is second), you’re not alone.\n",
    "It takes time to get used to that.  Although it can be confusing, I think\n",
    "you’ll find, over time, it starts to make sense.\n",
    "\n",
    "But - for now - if you only remember one thing about this, here is the way to\n",
    "split the list into the first 3 elements, and everything after:"
   ]
  },
  {
   "cell_type": "code",
   "execution_count": null,
   "metadata": {},
   "outputs": [],
   "source": [
    "# First 3 - colon followed by 3\n",
    "first_3 = my_list[:3]\n",
    "# Everything after - 3 followed by colon\n",
    "everything_after = my_list[3:]\n",
    "first_3\n",
    "everything_after"
   ]
  }
 ],
 "metadata": {},
 "nbformat": 4,
 "nbformat_minor": 2
}