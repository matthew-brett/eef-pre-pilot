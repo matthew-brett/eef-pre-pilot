{
 "cells": [
  {
   "cell_type": "markdown",
   "metadata": {},
   "source": [
    "## Where are the Brexiteers?\n",
    "\n",
    "See: [Where are the Brexiteers?](https://matthew-brett.github.io/les-pilot/brexit_problem.html) for background.\n",
    "\n",
    "We are going to load this data using the [Pandas](http://pandas.pydata.org) package for data analysis.\n",
    "\n",
    "Pandas is a large, powerful package that is very popular for data analysis.\n",
    "You might want to read the [Pandas documentation](http://pandas.pydata.org/pandas-docs/stable) and you will find lots of\n",
    "help with Google searches and the [StackOverflow](https://stackoverflow.com) question answer site.\n",
    "\n",
    "First we *import* the package, so it is ready to use.  Actually we will import\n",
    "it, and also give it a nice short name so we do not have to do much typing to\n",
    "use the package:"
   ]
  },
  {
   "cell_type": "code",
   "execution_count": null,
   "metadata": {},
   "outputs": [],
   "source": [
    "import pandas"
   ]
  },
  {
   "cell_type": "markdown",
   "metadata": {},
   "source": [
    "The data file that you just downloaded should be called\n",
    "`audit_of_political_engagement_14_2017.tab`.  We load the data file into\n",
    "memory with Pandas:"
   ]
  },
  {
   "cell_type": "code",
   "execution_count": null,
   "metadata": {},
   "outputs": [],
   "source": [
    "audit_data = pandas.read_table('audit_of_political_engagement_14_2017.tab')"
   ]
  },
  {
   "cell_type": "markdown",
   "metadata": {},
   "source": [
    "We now have something called a “data frame”:"
   ]
  },
  {
   "cell_type": "code",
   "execution_count": null,
   "metadata": {},
   "outputs": [],
   "source": [
    "type(audit_data)"
   ]
  },
  {
   "cell_type": "markdown",
   "metadata": {},
   "source": [
    "The `DataFrame` type of object is a table, rather like a spreadsheet, where\n",
    "there is one row per person surveyed, and one column for each question in the\n",
    "survey.  The columns have helpful names that you can read about in the data\n",
    "dictionary:"
   ]
  },
  {
   "cell_type": "code",
   "execution_count": null,
   "metadata": {},
   "outputs": [],
   "source": [
    "audit_data"
   ]
  },
  {
   "cell_type": "markdown",
   "metadata": {},
   "source": [
    "The data frame has columns for all the questions listed in the data\n",
    "dictionary:"
   ]
  },
  {
   "cell_type": "code",
   "execution_count": null,
   "metadata": {},
   "outputs": [],
   "source": [
    "audit_data.columns"
   ]
  },
  {
   "cell_type": "markdown",
   "metadata": {},
   "source": [
    "To reduce clutter, we first make a new data frame that just has the two\n",
    "questions we are interested in:"
   ]
  },
  {
   "cell_type": "code",
   "execution_count": null,
   "metadata": {},
   "outputs": [],
   "source": [
    "# Select the age and Brexit vote questions only\n",
    "brexit_age = audit_data[['numage', 'cut15']]\n",
    "brexit_age"
   ]
  },
  {
   "cell_type": "markdown",
   "metadata": {},
   "source": [
    "The variable name `cut15` is not very memorable, and we care about\n",
    "memorable, because good names help to keep our ideas clear as we are working.\n",
    "We rename the columns from their original names to more memorable ones:"
   ]
  },
  {
   "cell_type": "code",
   "execution_count": null,
   "metadata": {},
   "outputs": [],
   "source": [
    "# Rename the columns to be more memorable\n",
    "brexit_age.columns = ['age', 'brexit']\n",
    "brexit_age"
   ]
  },
  {
   "cell_type": "markdown",
   "metadata": {},
   "source": [
    "Wait — there’s something odd in those numbers.\n",
    "\n",
    "We were lucky to spot that, but in any case, we want to check our data before\n",
    "we continue.  The first thing we do is make a histogram of the ages.\n",
    "\n",
    "To do this we first need to load the standard Python plotting library,\n",
    "[Matplotlib](http://matplotlib.org)."
   ]
  },
  {
   "cell_type": "code",
   "execution_count": null,
   "metadata": {},
   "outputs": [],
   "source": [
    "%matplotlib inline"
   ]
  },
  {
   "cell_type": "markdown",
   "metadata": {},
   "source": [
    "Remember that we did an “import” for the Pandas package above.  Now we import\n",
    "part of `matplotlib`."
   ]
  },
  {
   "cell_type": "code",
   "execution_count": null,
   "metadata": {},
   "outputs": [],
   "source": [
    "import matplotlib.pyplot"
   ]
  },
  {
   "cell_type": "markdown",
   "metadata": {},
   "source": [
    "What type of thing is `matplotlib.pyplot`?"
   ]
  },
  {
   "cell_type": "code",
   "execution_count": null,
   "metadata": {},
   "outputs": [],
   "source": [
    "type(matplotlib.pyplot)"
   ]
  },
  {
   "cell_type": "markdown",
   "metadata": {},
   "source": [
    "We use the `hist` function in `matplotlib.pyplot` to plot a histogram of\n",
    "the respondents’ ages:"
   ]
  },
  {
   "cell_type": "code",
   "execution_count": null,
   "metadata": {},
   "outputs": [],
   "source": [
    "matplotlib.pyplot.hist(brexit_age['age'])"
   ]
  },
  {
   "cell_type": "markdown",
   "metadata": {},
   "source": [
    "It’s very boring to keep typing `matplotlib.pyplot`, so we can give it a\n",
    "shorter name:"
   ]
  },
  {
   "cell_type": "code",
   "execution_count": null,
   "metadata": {},
   "outputs": [],
   "source": [
    "# Set the name \"plt\" to point to the \"matplotlib.pyplot\" module\n",
    "plt = matplotlib.pyplot\n",
    "type(plt)"
   ]
  },
  {
   "cell_type": "markdown",
   "metadata": {},
   "source": [
    "Now we can be more concise:"
   ]
  },
  {
   "cell_type": "code",
   "execution_count": null,
   "metadata": {},
   "outputs": [],
   "source": [
    "plt.hist(brexit_age['age'])"
   ]
  },
  {
   "cell_type": "markdown",
   "metadata": {},
   "source": [
    "There appear to be a few subjects with age of 0.\n",
    "\n",
    "It looks as if the survey coders are using the value 0 to mean that the person\n",
    "did not state their age.  We will have to clean that up.  We do that by\n",
    "selecting the cases that have ages not equal to 0.\n",
    "\n",
    "First we get the age column into its own variable."
   ]
  },
  {
   "cell_type": "code",
   "execution_count": null,
   "metadata": {},
   "outputs": [],
   "source": [
    "age_column = brexit_age['age']\n",
    "age_column"
   ]
  },
  {
   "cell_type": "markdown",
   "metadata": {},
   "source": [
    "This variable is of type `Series`:"
   ]
  },
  {
   "cell_type": "code",
   "execution_count": null,
   "metadata": {},
   "outputs": [],
   "source": [
    "type(age_column)"
   ]
  },
  {
   "cell_type": "markdown",
   "metadata": {},
   "source": [
    "The `Series` represents the column from the data frame.  Like the data\n",
    "frame, it has row (value) labels.  In our case, these are just numbers from 0.\n",
    "\n",
    "We can convert this series, to another series that has the value `True` when\n",
    "the age is *not equal to 0*, and `False` if it is equal to 0:"
   ]
  },
  {
   "cell_type": "code",
   "execution_count": null,
   "metadata": {},
   "outputs": [],
   "source": [
    "# Read RHS as \"age_column value not equal to 0\"\n",
    "age_not_0 = age_column != 0\n",
    "age_not_0"
   ]
  },
  {
   "cell_type": "markdown",
   "metadata": {},
   "source": [
    "This is called a *boolean vector*, because it is a sequence of *boolean*\n",
    "values (`True` or `False`).  We can use this to select rows in the data\n",
    "frame where the value is `True`, and throw away the rows where the value is\n",
    "`False`.  To do this, we use the `loc` function attached to the data\n",
    "frame.  It *locates* values:"
   ]
  },
  {
   "cell_type": "code",
   "execution_count": null,
   "metadata": {},
   "outputs": [],
   "source": [
    "# Select rows in the data frame where the age is not equal to 0\n",
    "brexit_good_age = brexit_age.loc[age_not_0]\n",
    "brexit_good_age"
   ]
  },
  {
   "cell_type": "markdown",
   "metadata": {},
   "source": [
    "Now we want to ask what proportion of the respondents said that they voted\n",
    "Remain or Leave.  Later we will try to work out whether the proportion is\n",
    "consistent with the way that the UK voted in the referendum.\n",
    "\n",
    "First we make a new data frame that contains only the rows for people who said\n",
    "they voted No in the referendum (remain).  Remember, from the data dictionary,\n",
    "that 1 is the code for a No vote:"
   ]
  },
  {
   "cell_type": "code",
   "execution_count": null,
   "metadata": {},
   "outputs": [],
   "source": [
    "# Select the cases who say they voted No (Remain)\n",
    "# First, make a boolean vector, True for remain row, False otherwise.\n",
    "is_remain = brexit_good_age['brexit'] == 1\n",
    "remainers = brexit_good_age.loc[is_remain]\n",
    "remainers"
   ]
  },
  {
   "cell_type": "markdown",
   "metadata": {},
   "source": [
    "Next we make a new data frame for those who claimed to vote Yes (leave) (code\n",
    "2):"
   ]
  },
  {
   "cell_type": "code",
   "execution_count": null,
   "metadata": {},
   "outputs": [],
   "source": [
    "is_leave = brexit_good_age['brexit'] == 2\n",
    "brexiteers = brexit_good_age.loc[is_leave]\n",
    "brexiteers"
   ]
  },
  {
   "cell_type": "markdown",
   "metadata": {},
   "source": [
    "In this sample, what are the proportion of Leave voters, compared to all those\n",
    "who will confess to a vote?  We use the `len` function to get the number of\n",
    "cases in each data frame:"
   ]
  },
  {
   "cell_type": "code",
   "execution_count": null,
   "metadata": {},
   "outputs": [],
   "source": [
    "len(brexiteers)"
   ]
  },
  {
   "cell_type": "markdown",
   "metadata": {},
   "source": [
    "Now for the proportion:"
   ]
  },
  {
   "cell_type": "code",
   "execution_count": null,
   "metadata": {},
   "outputs": [],
   "source": [
    "len(brexiteers) / (len(brexiteers) + len(remainers))"
   ]
  },
  {
   "cell_type": "markdown",
   "metadata": {},
   "source": [
    "As we saw in [Where are the Brexiteers?](https://matthew-brett.github.io/les-pilot/brexit_problem.html), the proportion of Leave voters in the\n",
    "referendum was 51.9%.  That seems a way off.  Is it too far off?\n",
    "\n",
    "Now let’s have a look at the distribution of ages for the Remain voters:"
   ]
  },
  {
   "cell_type": "code",
   "execution_count": null,
   "metadata": {},
   "outputs": [],
   "source": [
    "plt.hist(remainers['age'])"
   ]
  },
  {
   "cell_type": "markdown",
   "metadata": {},
   "source": [
    "How about the ages of the Brexiteers?"
   ]
  },
  {
   "cell_type": "code",
   "execution_count": null,
   "metadata": {},
   "outputs": [],
   "source": [
    "plt.hist(brexiteers['age'])"
   ]
  },
  {
   "cell_type": "markdown",
   "metadata": {},
   "source": [
    "These distributions look different.  But — how different are they?  And how\n",
    "confident can we be that this difference did not come about by chance?\n",
    "\n",
    "Last, we will save the data to use it later.  First we stack the Remain and\n",
    "Leave cases together into one long data frame:"
   ]
  },
  {
   "cell_type": "code",
   "execution_count": null,
   "metadata": {},
   "outputs": [],
   "source": [
    "remain_leave = pandas.concat([remainers, brexiteers])\n",
    "len(remain_leave)"
   ]
  },
  {
   "cell_type": "markdown",
   "metadata": {},
   "source": [
    "Next we save to a simple text file so we can load it later.  The format is\n",
    "CSV, which stands for Comma Separated Values — commas separate the values\n",
    "within each row.  In saving, we drop the index from the data frame, which just\n",
    "contains the case numbers:"
   ]
  },
  {
   "cell_type": "code",
   "execution_count": null,
   "metadata": {},
   "outputs": [],
   "source": [
    "remain_leave.to_csv('remain_leave.csv', index=False)"
   ]
  },
  {
   "cell_type": "markdown",
   "metadata": {},
   "source": [
    "To be safe, we check we can load back that file:"
   ]
  },
  {
   "cell_type": "code",
   "execution_count": null,
   "metadata": {},
   "outputs": [],
   "source": [
    "remain_leave_reloaded = pandas.read_csv('remain_leave.csv')\n",
    "remain_leave_reloaded"
   ]
  },
  {
   "cell_type": "markdown",
   "metadata": {},
   "source": [
    "<!-- A file containing links and substitutions -->\n",
    "<!-- vim: ft=rst -->\n",
    "<!-- Version control -->\n",
    "<!-- Editors -->\n",
    "<!-- Python and common libraries -->\n",
    "<!-- Virtualenv and helpers -->\n",
    "<!-- Pypi and packaging -->\n",
    "<!-- Mac development -->\n",
    "<!-- Windows development -->\n",
    "<!-- Nipy and friends -->\n",
    "<!-- Mathematics -->\n",
    "<!-- Licenses -->\n",
    "<!-- Misc Web: -->\n",
    "<!-- Neuroimaging stuff -->\n",
    "<!-- People -->\n",
    "<!-- Birmingham -->\n",
    "<!-- Course: -->\n",
    "<!-- Substitutions -->"
   ]
  }
 ],
 "metadata": {},
 "nbformat": 4,
 "nbformat_minor": 2
}