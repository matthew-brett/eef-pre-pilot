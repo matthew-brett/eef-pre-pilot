{
 "cells": [
  {
   "cell_type": "markdown",
   "metadata": {},
   "source": [
    "## Functions\n",
    "\n",
    "Have already seen functions in action, such as `len` and `max`.\n",
    "\n",
    "These are functions that Python provides for us.\n",
    "\n",
    "We can use functions in modules. One is example is the `random` function\n",
    "from the `random` module.  This returns random number between 0 and 1."
   ]
  },
  {
   "cell_type": "code",
   "execution_count": null,
   "metadata": {},
   "outputs": [],
   "source": [
    "import random"
   ]
  },
  {
   "cell_type": "code",
   "execution_count": null,
   "metadata": {},
   "outputs": [],
   "source": [
    "random.random()"
   ]
  },
  {
   "cell_type": "code",
   "execution_count": null,
   "metadata": {},
   "outputs": [],
   "source": [
    "random.random()"
   ]
  },
  {
   "cell_type": "markdown",
   "metadata": {},
   "source": [
    "We can also write our own functions.\n",
    "\n",
    "We will use a function to contain the logic for deciding whether the next\n",
    "chlild is a boy or a girl.  Call our new function `girl_or_boy1`.  Like\n",
    "`random.random` our function `girl_or_boy` will accept no arguments.  It\n",
    "will return a `G` 50% of the time and a `B` 50% of the time.\n",
    "\n",
    "Remember, we have already imported `random`.\n",
    "\n",
    "We make a function like this:"
   ]
  },
  {
   "cell_type": "code",
   "execution_count": null,
   "metadata": {},
   "outputs": [],
   "source": [
    "def girl_or_boy1():\n",
    "    # Return 'G' or 'B' with 50% chance\n",
    "    return random.choice('GB')"
   ]
  },
  {
   "cell_type": "markdown",
   "metadata": {},
   "source": [
    "The function starts with the word `def` which tells Python we are defining a\n",
    "function.  Next follows the name of the function, followed by, in our case,\n",
    "parentheses.  You specify what arguments the function should have, in the\n",
    "parentheses. In our case, our function as no arguments, so there is nothing\n",
    "between the parentheses.\n",
    "\n",
    "Next there follows one or more indented statements.  These statements are the\n",
    "*body* of the function.  They are the code that gets run when the function\n",
    "gets called.\n",
    "\n",
    "We return the result with the `return` statement.  Here we are returning\n",
    "`\"G\"` or `\"B\"`, each with a 0.5 probability.\n",
    "\n",
    "Test it:"
   ]
  },
  {
   "cell_type": "code",
   "execution_count": null,
   "metadata": {},
   "outputs": [],
   "source": [
    "# Notice, we pass no arguments\n",
    "girl_or_boy1()\n",
    "girl_or_boy1()"
   ]
  },
  {
   "cell_type": "markdown",
   "metadata": {},
   "source": [
    "So far all we have done is moved a single line of code into a function, but\n",
    "functions allow us to put more logic into the function, without making the\n",
    "call any more complicated.  For example, let’s imagine we wanted to write our\n",
    "function to allow for the possibility that the probability of a girl was not\n",
    "exactly 0.5:"
   ]
  },
  {
   "cell_type": "code",
   "execution_count": null,
   "metadata": {},
   "outputs": [],
   "source": [
    "def girl_or_boy2():\n",
    "    # Return 'G' or 'B' with (for now) 50% chance.\n",
    "    # Make a random number between 0 and 1\n",
    "    random_no = random.random()\n",
    "    # Calculate the return value\n",
    "    if random_no < 0.5:  # We might want to change this later\n",
    "        our_result = 'G'\n",
    "    else:\n",
    "        our_result = 'B'\n",
    "    # Send back the result\n",
    "    return our_result"
   ]
  },
  {
   "cell_type": "markdown",
   "metadata": {},
   "source": [
    "Let’s call the function a few times to see if the results are plausible:"
   ]
  },
  {
   "cell_type": "code",
   "execution_count": null,
   "metadata": {},
   "outputs": [],
   "source": [
    "girl_or_boy2()"
   ]
  },
  {
   "cell_type": "code",
   "execution_count": null,
   "metadata": {},
   "outputs": [],
   "source": [
    "girl_or_boy2()"
   ]
  },
  {
   "cell_type": "code",
   "execution_count": null,
   "metadata": {},
   "outputs": [],
   "source": [
    "girl_or_boy2()"
   ]
  },
  {
   "cell_type": "markdown",
   "metadata": {},
   "source": [
    "## Exercise\n",
    "\n",
    "Up until now, we’ve assumed that the chance that a child is a boy is 0.5.  Now\n",
    "assume the proportion of boys born in the UK is 0.513 .\n",
    "\n",
    "Here’s a copy of the `girl_or_boy2` function above, renamed as\n",
    "`girl_or_boy3`.  Modify the function to return `\"B\"` (for a boy) 51.3% of\n",
    "the time, and `\"G\"` (for a girl) 48.7% of the time."
   ]
  },
  {
   "cell_type": "code",
   "execution_count": null,
   "metadata": {},
   "outputs": [],
   "source": [
    "def girl_or_boy3():\n",
    "    # Return 'G' with probability 0.487, 'B' with p=0.513.\n",
    "    # Make a random number between 0 and 1\n",
    "    random_no = random.random()\n",
    "    # Calculate the return value\n",
    "    if random_no < 0.5:  # We might want to change this later\n",
    "        our_result = 'G'\n",
    "    else:\n",
    "        our_result = 'B'\n",
    "    # Send back the result\n",
    "    return our_result"
   ]
  },
  {
   "cell_type": "markdown",
   "metadata": {},
   "source": [
    "You can try your function out a few times with the cell below:"
   ]
  },
  {
   "cell_type": "code",
   "execution_count": null,
   "metadata": {},
   "outputs": [],
   "source": [
    "girl_or_boy3()"
   ]
  },
  {
   "cell_type": "markdown",
   "metadata": {},
   "source": [
    "If you’ve got that done, use a `for` loop to run this function 10000 times,\n",
    "and record what proportion of times it returns `\"G\"`.  Is the answer close\n",
    "to 0.487?  It should be …"
   ]
  }
 ],
 "metadata": {},
 "nbformat": 4,
 "nbformat_minor": 2
}