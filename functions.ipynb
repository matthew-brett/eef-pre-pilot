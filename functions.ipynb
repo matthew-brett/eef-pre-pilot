{
 "cells": [
  {
   "cell_type": "markdown",
   "metadata": {},
   "source": [
    "## Functions\n",
    "\n",
    "Have already seen functions in action, such as `len` and `max`.\n",
    "\n",
    "These are functions that Python provides for us.\n",
    "\n",
    "We can also write our own functions.\n",
    "\n",
    "We’re going to wrap up our logic for the coin toss into a function, and call\n",
    "the function `coin_toss`.  Like `random.random` our function `coin_toss`\n",
    "will accept no arguments.  It will return a 0 50% of the time and a 1 50% of\n",
    "the time.\n",
    "\n",
    "First we import `random`:"
   ]
  },
  {
   "cell_type": "code",
   "execution_count": null,
   "metadata": {},
   "outputs": [],
   "source": [
    "import random"
   ]
  },
  {
   "cell_type": "markdown",
   "metadata": {},
   "source": [
    "We make a function like this:"
   ]
  },
  {
   "cell_type": "code",
   "execution_count": null,
   "metadata": {},
   "outputs": [],
   "source": [
    "def coin_toss():\n",
    "    random_no = random.random()\n",
    "    if random_no < 0.5:\n",
    "        our_result = 0\n",
    "    else:\n",
    "        our_result = 1\n",
    "    return our_result"
   ]
  },
  {
   "cell_type": "markdown",
   "metadata": {},
   "source": [
    "The function starts with the word `def` which tells Python we are defining a\n",
    "function.  Next follows the name of the function, followed by, in our case,\n",
    "parentheses.  You specify what arguments the function should have, in the\n",
    "parentheses. In our case, our function as no arguments, so there is nothing\n",
    "between the parentheses.\n",
    "\n",
    "Next there follows a series of statements that are indented.  These statements\n",
    "are the *body* of the function.  They are the code that gets run when the\n",
    "function gets called.\n",
    "\n",
    "We return the result with the `return` statement.  Here we are returning a 0\n",
    "if a random number was < 0.5, and a 1 otherwise.\n",
    "\n",
    "Let’s call the function a few times to see if the results are plausible:"
   ]
  },
  {
   "cell_type": "code",
   "execution_count": null,
   "metadata": {},
   "outputs": [],
   "source": [
    "# Notice, we pass no arguments\n",
    "coin_toss()"
   ]
  },
  {
   "cell_type": "code",
   "execution_count": null,
   "metadata": {},
   "outputs": [],
   "source": [
    "coin_toss()"
   ]
  },
  {
   "cell_type": "code",
   "execution_count": null,
   "metadata": {},
   "outputs": [],
   "source": [
    "coin_toss()"
   ]
  },
  {
   "cell_type": "markdown",
   "metadata": {},
   "source": [
    "## Exercise\n",
    "\n",
    "Up until now, we’ve assumed that the chance that a child is a boy is 0.5.  Now\n",
    "assume the proportion of boys born in the UK is 0.513 .\n",
    "\n",
    "Here is a new copy of the `coin_toss` function, but renamed.  Like the\n",
    "`coin_toss` function, it returns 0 50% of the time, and 1 the rest of the\n",
    "time.  Modify the function to return 0 (for a boy) 51.3% of the time, and 1\n",
    "(for a girl) 48.7% of the time:"
   ]
  },
  {
   "cell_type": "code",
   "execution_count": null,
   "metadata": {},
   "outputs": [],
   "source": [
    "def girl_or_boy():\n",
    "    # Return 1 for a girl, 0 for a boy\n",
    "    random_no = random.random()\n",
    "    if random_no < 0.5:\n",
    "        our_result = 0\n",
    "    else:\n",
    "        our_result = 1\n",
    "    return our_result"
   ]
  },
  {
   "cell_type": "markdown",
   "metadata": {},
   "source": [
    "You can try your function out a few times with the cell below:"
   ]
  },
  {
   "cell_type": "code",
   "execution_count": null,
   "metadata": {},
   "outputs": [],
   "source": [
    "girl_or_boy()"
   ]
  }
 ],
 "metadata": {},
 "nbformat": 4,
 "nbformat_minor": 2
}