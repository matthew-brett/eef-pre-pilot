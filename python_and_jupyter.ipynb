{
 "cells": [
  {
   "cell_type": "markdown",
   "metadata": {},
   "source": [
    "## Introduction to Python, via Jupyter\n",
    "\n",
    "This is a Jupyter Notebook.\n",
    "\n",
    "For the moment, I’ll introduce the Notebook, and then get on to how Python\n",
    "works.\n",
    "\n",
    "### A Notebook has cells\n",
    "\n",
    "As you can see, the Jupyter Notebook runs in your web browser.\n",
    "\n",
    "It consists of *cells*. This is a text cell.  The cell below is a code cell.\n",
    "\n",
    "You can mix code and text cells in any order.\n",
    "\n",
    "We won’t pay much attention to text cells for now, but they are very useful to\n",
    "weave explanation and code, to justify and explain your analysis.\n",
    "\n",
    "To move from one cell to the next, you can use Shift-Enter. When you do\n",
    "this inside a code cell, it will execute, and move to the next cell.\n",
    "\n",
    "### Python\n",
    "\n",
    "What follows is a code cell.  In fact, it is Python code.  Press Shift-Enter\n",
    "to move out of this cell into the code cell, and Shift-Enter again to execute\n",
    "the code cell."
   ]
  },
  {
   "cell_type": "code",
   "execution_count": null,
   "metadata": {},
   "outputs": [],
   "source": [
    "a = 10"
   ]
  },
  {
   "cell_type": "markdown",
   "metadata": {},
   "source": [
    "Now you’ve executed the code cell, it doesn’t look as if anything has\n",
    "happened, but when you did Shift-Enter in the cell above, the Jupyter Notebook\n",
    "sent the code off to be executed by [Python](https://python.org).  Python is\n",
    "a programming language with a easy-to-read syntax that is widely used for\n",
    "teaching, and for data analysis.  It’s very popular in academia, and in\n",
    "industry, especially for data analysis.\n",
    "\n",
    "<!-- what we have to cover\n",
    "\n",
    "The type of a thing\n",
    "Numbers\n",
    "Strings\n",
    "# Lists\n",
    "True and False\n",
    "Functions\n",
    "# Sum -->\n",
    "# Output when the last statement is an expression\n",
    "\n",
    "Remember, from [Assignment](https://matthew-brett.github.io/les-pilot/assignment.html), that an expression is a piece of code that\n",
    "returns a value.\n",
    "\n",
    "When working on code, we often want to see the values of expressions, and\n",
    "particularly, we often want to see the contents of variables. The Notebook\n",
    "makes it easy to do that.  If the last statement in a code cell is an\n",
    "expression (like the Right Hand Side of an assignment), the Notebook will show\n",
    "us the value returned from that expression, as *Output* from the cell.\n",
    "\n",
    "For example, let’s say we wanted to see the value of the variable `a`.  The\n",
    "code `a` is an expression, that returns the value of the variable `a`.\n",
    "So, to see the value of `a` in the Notebook, we can do this:"
   ]
  },
  {
   "cell_type": "code",
   "execution_count": null,
   "metadata": {},
   "outputs": [],
   "source": [
    "a"
   ]
  },
  {
   "cell_type": "markdown",
   "metadata": {},
   "source": [
    "Notice that the Notebook made a new type of display after the cell, with the\n",
    "prompt in red, and starting with `Out[`.\n",
    "\n",
    "Our code cells can have lines that do some work, followed by a variable on its\n",
    "own, so we can see its value. Like this:"
   ]
  },
  {
   "cell_type": "code",
   "execution_count": null,
   "metadata": {},
   "outputs": [],
   "source": [
    "b = 5\n",
    "b"
   ]
  },
  {
   "cell_type": "markdown",
   "metadata": {},
   "source": [
    "# The Notebook as a calculator\n",
    "\n",
    "The code cell shows output, when it ends with an expression (a RHS without\n",
    "a LHS).  The expression can be a number, or a variable, as we have seen before, but\n",
    "it can also be something more complicated:"
   ]
  },
  {
   "cell_type": "code",
   "execution_count": null,
   "metadata": {},
   "outputs": [],
   "source": [
    "(10 + 5 + 1) / 4"
   ]
  },
  {
   "cell_type": "markdown",
   "metadata": {},
   "source": [
    "Notice, we didn’t use any variables. The RHS, on its own, is `(10 + 5 + 1) /\n",
    "4` is an expression - some code that returns a value.\n",
    "\n",
    "This means that we can use the Notebook as a simple calculator. You’ve\n",
    "already seen `+` and `/` and the parentheses. You also have `\\*` for\n",
    "multiply, and `-` for subtract, and `\\*\\*` for to-the-power-of.  For\n",
    "example, here’s $10^4$:"
   ]
  },
  {
   "cell_type": "code",
   "execution_count": null,
   "metadata": {},
   "outputs": [],
   "source": [
    "10 ** 4"
   ]
  },
  {
   "cell_type": "markdown",
   "metadata": {},
   "source": [
    "Try calculating $6 (2^3) / 4$ (it should equal 12):\n",
    "\n",
    "Try $1024^2 / 2^{16}$ (it should equal 16).\n",
    "\n",
    "# Using variables\n",
    "\n",
    "The great value of variables is that we can use them in calculations. For\n",
    "example, we might be interested in the result of $2 x^2 + 3x + 10$. We\n",
    "want to calculate what answer we get for $x = 2$."
   ]
  },
  {
   "cell_type": "code",
   "execution_count": null,
   "metadata": {},
   "outputs": [],
   "source": [
    "x = 2\n",
    "x"
   ]
  },
  {
   "cell_type": "code",
   "execution_count": null,
   "metadata": {},
   "outputs": [],
   "source": [
    "2 * x ** 2 + 3 * x + 10"
   ]
  },
  {
   "cell_type": "markdown",
   "metadata": {},
   "source": [
    "Now we can simply get the answer for $x = 7$, or any other value\n",
    "of $x$:"
   ]
  },
  {
   "cell_type": "code",
   "execution_count": null,
   "metadata": {},
   "outputs": [],
   "source": [
    "x = 7\n",
    "2 * x ** 2 + 3 * x + 10"
   ]
  },
  {
   "cell_type": "markdown",
   "metadata": {},
   "source": [
    "# Comments begin with a hash (#)\n",
    "\n",
    "The code cells in this Notebook, and all the Notebooks we’ll use in the class,\n",
    "will be in the Python programming language. In that language (and many\n",
    "others), a line beginning with `#` is a *comment*, which means that Python\n",
    "does not do anything with that line, and it just serves to explain the code."
   ]
  },
  {
   "cell_type": "code",
   "execution_count": null,
   "metadata": {},
   "outputs": [],
   "source": [
    "# This is a comment.  It doesn't do anything.\n",
    "# This is another comment.  It is just for your reading pleasure.\n",
    "# The line below sets the variable c to have value 10.\n",
    "c = 10\n",
    "# The last line is an expression, and so we see an output of this expression\n",
    "# after the cell.\n",
    "c"
   ]
  },
  {
   "cell_type": "markdown",
   "metadata": {},
   "source": [
    "# Strings contain text\n",
    "\n",
    "So far we have only seen numbers. Another type of information that Python can\n",
    "store and use, is text. Python calls text data: *strings*. For example, here I\n",
    "set the variable `my_name` to the *string* `'Matthew'`. Notice the quotes\n",
    "around the string. The quotes tell Python that this is text (string) data:"
   ]
  },
  {
   "cell_type": "code",
   "execution_count": null,
   "metadata": {},
   "outputs": [],
   "source": [
    "my_name = 'Matthew'\n",
    "my_name"
   ]
  },
  {
   "cell_type": "markdown",
   "metadata": {},
   "source": [
    "What happens when I miss off the quotes in the line above?\n",
    "\n",
    "You can use single quotes (`'`) to go round strings, or double quotes\n",
    "(`\"`). It doesn’t matter to Python, it recognizes you want to make a string."
   ]
  },
  {
   "cell_type": "code",
   "execution_count": null,
   "metadata": {},
   "outputs": [],
   "source": [
    "# I'm setting your_name to the string 'Alphonse' using single quotes\n",
    "your_name = 'Alphonse'\n",
    "your_name"
   ]
  },
  {
   "cell_type": "code",
   "execution_count": null,
   "metadata": {},
   "outputs": [],
   "source": [
    "# But I could have used double quotes, it ends up the same to Python.\n",
    "third_name = \"Alphonse\"\n",
    "third_name"
   ]
  },
  {
   "cell_type": "markdown",
   "metadata": {},
   "source": [
    "# Functions process things\n",
    "\n",
    "Python also has *functions*. It is easiest to explain a function by example.\n",
    "`len` is a function, returning the length of something. Here we get the\n",
    "length of the string:"
   ]
  },
  {
   "cell_type": "code",
   "execution_count": null,
   "metadata": {},
   "outputs": [],
   "source": [
    "len('Alphonse')"
   ]
  },
  {
   "cell_type": "markdown",
   "metadata": {},
   "source": [
    "The result that Python returned from `len` is the number of characters in\n",
    "the string `'Alphonse'`. The variable `your_name` also points to the\n",
    "string `'Alphonse'`, so we get the same result from calling `len` on the\n",
    "variable `your_name`:"
   ]
  },
  {
   "cell_type": "code",
   "execution_count": null,
   "metadata": {},
   "outputs": [],
   "source": [
    "len(your_name)"
   ]
  },
  {
   "cell_type": "markdown",
   "metadata": {},
   "source": [
    "The function has a name - `len`. We call it, by using its name and then an\n",
    "opening parenthesis, and then the *arguments* that we want to send to the\n",
    "function, and then a closing parenthesis.\n",
    "\n",
    "In this case the function `len` accepts only one argument, which is the\n",
    "thing we want the length of.\n",
    "\n",
    "Now try setting the variable `my_name` to a string containing your first\n",
    "(given) name. Then get the Notebook to tell you how many characters there are\n",
    "in your name. Here’s how I would do that, in the cell below. You can edit the\n",
    "cell to put your name in there instead."
   ]
  },
  {
   "cell_type": "code",
   "execution_count": null,
   "metadata": {},
   "outputs": [],
   "source": [
    "my_name = 'Matthew'\n",
    "len(my_name)"
   ]
  },
  {
   "cell_type": "markdown",
   "metadata": {},
   "source": [
    "There are functions which work on numbers as well. For example, the function\n",
    "`max` accepts two (or more) numbers, and returns the maximum:"
   ]
  },
  {
   "cell_type": "code",
   "execution_count": null,
   "metadata": {},
   "outputs": [],
   "source": [
    "max(10, 4)"
   ]
  },
  {
   "cell_type": "markdown",
   "metadata": {},
   "source": [
    "# What type of thing have I got?\n",
    "\n",
    "So far we have seen two different types of thing that a variable can refer to\n",
    "- numbers and strings.\n",
    "\n",
    "We often want to find out what type of thing a variable refers to.  We can use\n",
    "the function `type` for this.  For example:"
   ]
  },
  {
   "cell_type": "code",
   "execution_count": null,
   "metadata": {},
   "outputs": [],
   "source": [
    "# Set name \"a\" to refer to the number 5\n",
    "a = 5\n",
    "# What type of thing does \"a\" refer to?\n",
    "type(a)"
   ]
  },
  {
   "cell_type": "markdown",
   "metadata": {},
   "source": [
    "Here `a` refers to an integer (whole number)."
   ]
  },
  {
   "cell_type": "code",
   "execution_count": null,
   "metadata": {},
   "outputs": [],
   "source": [
    "# What type of thing does \"my_name\" refer to?\n",
    "type(my_name)"
   ]
  },
  {
   "cell_type": "markdown",
   "metadata": {},
   "source": [
    "`my_name` refers to a string.\n",
    "\n",
    "# Set equal to and test equal to\n",
    "\n",
    "We have been setting the values of variables with the variable name (e.g.\n",
    ") followed by the equals character  and then the value. For\n",
    "example:"
   ]
  },
  {
   "cell_type": "code",
   "execution_count": null,
   "metadata": {},
   "outputs": [],
   "source": [
    "# Setting variable my_name to have value \"Matthew\"\n",
    "my_name = \"Matthew\""
   ]
  },
  {
   "cell_type": "markdown",
   "metadata": {},
   "source": [
    "This is the use of equal to mean “set the variable on the left equal to the\n",
    "value on the right”.\n",
    "\n",
    "There is another use of “equal” which is to test whether something is equal to\n",
    "something else.  This is called “test equals”.  Python uses double equal signs\n",
    "`==` for that meaning of equals.  For example, here we test whether the\n",
    "value of variable `my_name` is equal to the string :"
   ]
  },
  {
   "cell_type": "code",
   "execution_count": null,
   "metadata": {},
   "outputs": [],
   "source": [
    "# Equal in the sense of test equal to\n",
    "my_name == 'John'"
   ]
  },
  {
   "cell_type": "markdown",
   "metadata": {},
   "source": [
    "Notice that test-equal, with `==`, is an expression, that returns the value\n",
    "`True` if the two sides are equal, and `False` if they are not:"
   ]
  },
  {
   "cell_type": "code",
   "execution_count": null,
   "metadata": {},
   "outputs": [],
   "source": [
    "# Equal in the sense of test equal to\n",
    "my_name == 'Matthew'"
   ]
  },
  {
   "cell_type": "markdown",
   "metadata": {},
   "source": [
    "# Packages\n",
    "\n",
    "So far all the stuff we have seen uses functions that Python will always\n",
    "give you. For example, `len` and `max` are always available to you,\n",
    "whenever you start Python.\n",
    "\n",
    "There are many other things that Python keeps in *modules*. Modules are\n",
    "libraries of functions and other things, that you cannot use, until you\n",
    "load them into Python. You load them into Python using the `import`\n",
    "command.\n",
    "\n",
    "For example, we are soon going to be using the `random` module. This\n",
    "is a module that gives us random numbers of various sorts. Before we can\n",
    "use the `random` module, we have to `import` it - like this:"
   ]
  },
  {
   "cell_type": "code",
   "execution_count": null,
   "metadata": {},
   "outputs": [],
   "source": [
    "import random"
   ]
  },
  {
   "cell_type": "markdown",
   "metadata": {},
   "source": [
    "What type of thing is this?"
   ]
  },
  {
   "cell_type": "code",
   "execution_count": null,
   "metadata": {},
   "outputs": [],
   "source": [
    "type(random)"
   ]
  },
  {
   "cell_type": "markdown",
   "metadata": {},
   "source": [
    "Now we have the random module loaded, we can access its functions, by\n",
    "typing the module name `random`, followed by a dot, followed by the\n",
    "function we want to use. For example, `random` has a function\n",
    "`randint`, that returns a number between the first argument (the low\n",
    "bound) and the second argument (the high bound). We can get a random\n",
    "number between 0 and 10 like this:"
   ]
  },
  {
   "cell_type": "code",
   "execution_count": null,
   "metadata": {},
   "outputs": [],
   "source": [
    "random.randint(0, 10)"
   ]
  },
  {
   "cell_type": "markdown",
   "metadata": {},
   "source": [
    "# Getting help\n",
    "\n",
    "Often we want to know what a function does, or how many arguments it takes.\n",
    "The Notebook has a useful feature to help us. Type the name of the function\n",
    "you are interested in, followed by `?` and press Shift-Enter. The Notebook\n",
    "will show you pane of help on that function.  Try it now, for `len` and\n",
    "`max`."
   ]
  },
  {
   "cell_type": "code",
   "execution_count": null,
   "metadata": {},
   "outputs": [],
   "source": [
    "# Type (e.g):\n",
    "#\n",
    "# len?\n",
    "#\n",
    "# in the cell below"
   ]
  },
  {
   "cell_type": "markdown",
   "metadata": {},
   "source": [
    "It is also common that we want to know what functions or other goodies there\n",
    "are in a module.  The Notebook can help with that too.  In the code cell\n",
    "below, try typing  (note the trailing dot) and then, without pressing\n",
    "Return, press the Tab key.  The Notebook shows you a list of functions and\n",
    "other things inside the `random` module.  This is called “Tab completion”."
   ]
  },
  {
   "cell_type": "code",
   "execution_count": null,
   "metadata": {},
   "outputs": [],
   "source": [
    "# Type:\n",
    "#\n",
    "# random.\n",
    "#\n",
    "# followed by Tab, in the cell below"
   ]
  }
 ],
 "metadata": {},
 "nbformat": 4,
 "nbformat_minor": 2
}