{
 "cells": [
  {
   "cell_type": "markdown",
   "metadata": {},
   "source": [
    "## Plotting\n",
    "\n",
    "### Take home message for the lazy\n",
    "\n",
    "To use plotting in a Notebook, add the following cell:\n",
    "\n",
    "```\n",
    "import matplotlib.pyplot as plt\n",
    "% matplotlib inline\n",
    "```\n",
    "\n",
    "Then use commands like `plt.hist(data)` and `plt.scatter(x_data, y_data)`.\n",
    "\n",
    "### In more detail\n",
    "\n",
    "[Matplotlib](http://matplotlib.org) is a popular plotting library for Python.\n",
    "\n",
    "In particular, there is a sub-module of Matplotlib, that has many useful\n",
    "plotting functions.\n",
    "\n",
    "You can import this in the usual way:"
   ]
  },
  {
   "cell_type": "code",
   "execution_count": null,
   "metadata": {},
   "outputs": [],
   "source": [
    "import matplotlib.pyplot\n",
    "type(matplotlib.pyplot)"
   ]
  },
  {
   "cell_type": "markdown",
   "metadata": {},
   "source": [
    "By default, Matplotlib likes to make a new window for each plot.  That’s not\n",
    "what we want in the Notebook, because we want the plots to appear inside the\n",
    "Notebook.  To make that happen we use a special command in the Notebook, like\n",
    "this:\n",
    "\n",
    "```\n",
    "%matplotlib inline\n",
    "```\n",
    "\n",
    "Once we’ve done this, the plot come up inside the Notebook, and can be stored\n",
    "with the notebook.\n",
    "\n",
    "Here’s an example histogram from the [Where are the Brexiteers?](https://matthew-brett.github.io/les-pilot/brexit_analysis.html) data.  I’m using\n",
    "Pandas to load the data, but that’s only to get the data; it is not important\n",
    "for the plotting:"
   ]
  },
  {
   "cell_type": "code",
   "execution_count": null,
   "metadata": {},
   "outputs": [],
   "source": [
    "# Get the data - don't worry about the details of this cell\n",
    "import pandas\n",
    "remain_leave = pandas.read_csv('remain_leave.csv')\n",
    "leavers_ages = remain_leave.loc[remain_leave['brexit'] == 2, 'age']"
   ]
  },
  {
   "cell_type": "code",
   "execution_count": null,
   "metadata": {},
   "outputs": [],
   "source": [
    "# Do a default histogram of the leavers' ages\n",
    "matplotlib.pyplot.hist(leavers_ages)"
   ]
  },
  {
   "cell_type": "markdown",
   "metadata": {},
   "source": [
    "It is boring to have to type `matplotlib.pyplot.hist` when you want a\n",
    "histogram, so we often make a shortcut to the  module, like this:"
   ]
  },
  {
   "cell_type": "code",
   "execution_count": null,
   "metadata": {},
   "outputs": [],
   "source": [
    "# Make a shortcut to the pyplot submodule, and use it\n",
    "plt = matplotlib.pyplot\n",
    "plt.hist(leavers_ages)"
   ]
  },
  {
   "cell_type": "markdown",
   "metadata": {},
   "source": [
    "In fact, there’s a shortcut to making the shortcut, which is to rename the\n",
    "submodule when we import it.  That looks like this:"
   ]
  },
  {
   "cell_type": "code",
   "execution_count": null,
   "metadata": {},
   "outputs": [],
   "source": [
    "# Import the pyplot submodule with it's own shortcut\n",
    "import matplotlib.pyplot as plt\n",
    "plt.hist(leavers_ages)"
   ]
  },
  {
   "cell_type": "markdown",
   "metadata": {},
   "source": [
    "You’ll see this command `import matplotlib.pyplot as plt` in a lot of code\n",
    "online, it’s a very popular idiom.\n",
    "\n",
    "Another useful plot is a scatterplot. Here I go back to the Brexit\n",
    "questionnaire, and plot the persons age (on the x axis) against a weighting\n",
    "score used in the survey:"
   ]
  },
  {
   "cell_type": "code",
   "execution_count": null,
   "metadata": {},
   "outputs": [],
   "source": [
    "# Get all the data again\n",
    "audit_data = pandas.read_table('audit_of_political_engagement_14_2017.tab')\n",
    "plt.scatter(audit_data['numage'], audit_data['wts'])"
   ]
  },
  {
   "cell_type": "markdown",
   "metadata": {},
   "source": [
    "<!-- A file containing links and substitutions -->\n",
    "<!-- vim: ft=rst -->\n",
    "<!-- Version control -->\n",
    "<!-- Editors -->\n",
    "<!-- Python and common libraries -->\n",
    "<!-- Virtualenv and helpers -->\n",
    "<!-- Pypi and packaging -->\n",
    "<!-- Mac development -->\n",
    "<!-- Windows development -->\n",
    "<!-- Nipy and friends -->\n",
    "<!-- Mathematics -->\n",
    "<!-- Licenses -->\n",
    "<!-- Misc Web: -->\n",
    "<!-- Neuroimaging stuff -->\n",
    "<!-- People -->\n",
    "<!-- Birmingham -->\n",
    "<!-- Course: -->\n",
    "<!-- Substitutions -->"
   ]
  }
 ],
 "metadata": {},
 "nbformat": 4,
 "nbformat_minor": 2
}