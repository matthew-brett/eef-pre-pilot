{
 "cells": [
  {
   "cell_type": "markdown",
   "metadata": {},
   "source": [
    "## Testing Brexit Proportions\n",
    "\n",
    "If you look back at [Analyzing Brexit](https://matthew-brett.github.io/les-pilot/brexit.html), you will see that we found:\n",
    "\n",
    "* 541 people who said they voted to Leave the EU;\n",
    "\n",
    "* 774 people who said they voted to remain.\n",
    "\n",
    "* Therefore we have a total of 541 + 774 = 1315 people who voted and told us\n",
    "  what they voted.\n",
    "\n",
    "This gives us a proportion of Leave / (Leave + Remain) of:"
   ]
  },
  {
   "cell_type": "code",
   "execution_count": 1,
   "metadata": {},
   "outputs": [
    {
     "data": {
      "text/plain": [
       "0.4114068441064639"
      ]
     },
     "execution_count": 1,
     "metadata": {},
     "output_type": "execute_result"
    }
   ],
   "source": [
    "#: brexit proportion in survey\n",
    "541 / (541 + 774)"
   ]
  },
  {
   "cell_type": "markdown",
   "metadata": {},
   "source": [
    "We also saw that the [final referendum proportion](https://www.electoralcommission.org.uk/find-information-by-subject/elections-and-referendums/past-elections-and-referendums/eu-referendum/electorate-and-count-information)\n",
    "of Leave / (Leave + Remain) was 0.519.\n",
    "\n",
    "These proprtions seem very different?  But could such a difference have come\n",
    "about by chance?\n",
    "\n",
    "Now we need to formulate exactly what we mean by “come about by chance”?\n",
    "\n",
    "Specifically, we need for formulate our null hypothesis.  The null hypothesis\n",
    "is that the result did come about by chance.\n",
    "\n",
    "So, what is the chance element here?\n",
    "\n",
    "We could say it is the sampling.  That is, the survey has a sample of 1315\n",
    "people.  By chance, the sample could have more or less Leave voters, and\n",
    "therefore generate a higher or lower proportion.\n",
    "\n",
    "Here’s the null hypothesis: when the survey took its sample, it had the same\n",
    "chance of picking a Leave voter as for the whole voting population.  The\n",
    "proportion of 0.41 is within the bounds of the variations we might expect from\n",
    "random sampling of voters.\n",
    "\n",
    "The Leave proportion is our *statistic* calculated from the sample.\n",
    "\n",
    "If we draw 1315 voters at random, and calculate this proportion, and do this\n",
    "many times, the calculated proportion will have some distribution or spread.\n",
    "\n",
    "This is called the *sampling distribution* of the statistic.\n",
    "\n",
    "We will reject the null hypothesis if 0.411 would be very unusual given the\n",
    "sampling distribution of the statistic.\n",
    "\n",
    "So, how do we make this sampling distribution?\n",
    "\n",
    "We assume that the probability of selecting a leave voter is actually 0.519.\n",
    "\n",
    "We adapt our `girl_or_boy` function from [Three girls in a family of four](https://matthew-brett.github.io/les-pilot/number_of_girls.html) to return a\n",
    "Leave or Remain voter with that proportion:"
   ]
  },
  {
   "cell_type": "code",
   "execution_count": 2,
   "metadata": {},
   "outputs": [],
   "source": [
    "#: The random module\n",
    "import random"
   ]
  },
  {
   "cell_type": "code",
   "execution_count": 3,
   "metadata": {},
   "outputs": [],
   "source": [
    "#: function to return a Leave or Remain voter\n",
    "def leave_or_remain():\n",
    "    # Return 1 for Leave, 0 for Remain\n",
    "    random_no = random.random()\n",
    "    if random_no < 0.519:\n",
    "        our_result = 1\n",
    "    else:\n",
    "        our_result = 0\n",
    "    return our_result"
   ]
  },
  {
   "cell_type": "code",
   "execution_count": 4,
   "metadata": {},
   "outputs": [
    {
     "data": {
      "text/plain": [
       "1"
      ]
     },
     "execution_count": 4,
     "metadata": {},
     "output_type": "execute_result"
    }
   ],
   "source": [
    "#: call the fnction\n",
    "#: remember the brackets at the end\n",
    "leave_or_remain()"
   ]
  },
  {
   "cell_type": "markdown",
   "metadata": {},
   "source": [
    "In [Three girls in a family of four](https://matthew-brett.github.io/les-pilot/number_of_girls.html), a single trial was four children.  In our case, a\n",
    "single trial is 1315 Leave or Remain voters drawn at random. We calculate the\n",
    "statistic for each trial:"
   ]
  },
  {
   "cell_type": "code",
   "execution_count": 5,
   "metadata": {},
   "outputs": [],
   "source": [
    "#: The statistic value from a single trial\n",
    "def one_proportion():\n",
    "    votes = []\n",
    "    for i in range(1315):\n",
    "        vote = leave_or_remain()\n",
    "        votes.append(vote)\n",
    "    brexits = sum(votes)\n",
    "    return brexits / len(votes)"
   ]
  },
  {
   "cell_type": "markdown",
   "metadata": {},
   "source": [
    "Run a single trial:"
   ]
  },
  {
   "cell_type": "code",
   "execution_count": 6,
   "metadata": {},
   "outputs": [
    {
     "data": {
      "text/plain": [
       "0.5429657794676807"
      ]
     },
     "execution_count": 6,
     "metadata": {},
     "output_type": "execute_result"
    }
   ],
   "source": [
    "#: Result of one trial\n",
    "one_proportion()"
   ]
  },
  {
   "cell_type": "markdown",
   "metadata": {},
   "source": [
    "Now we want the sampling distribution of this proportion.  So, we’re going to\n",
    "draw 10000 random samples, and look at the distribution of the statistic (the\n",
    "proportion).  This is your job:"
   ]
  },
  {
   "cell_type": "code",
   "execution_count": 7,
   "metadata": {},
   "outputs": [],
   "source": [
    "#: Number of trials\n",
    "n_trials = 10000"
   ]
  },
  {
   "cell_type": "code",
   "execution_count": 8,
   "metadata": {},
   "outputs": [],
   "source": [
    "#- Make a list to contain the proportion for each trial\n",
    "proportions = []\n",
    "#- Make 10000 trials.\n",
    "#- For each trial, calculate the proportion and store it\n",
    "#- You now have 10000 proportions.\n",
    "for i in range(n_trials):\n",
    "    proportion = one_proportion()\n",
    "    proportions.append(proportion)"
   ]
  },
  {
   "cell_type": "code",
   "execution_count": 9,
   "metadata": {},
   "outputs": [],
   "source": [
    "%matplotlib inline"
   ]
  },
  {
   "cell_type": "code",
   "execution_count": 10,
   "metadata": {},
   "outputs": [],
   "source": [
    "#: The stuff you need for plotting a histogram\n",
    "import matplotlib.pyplot as plt"
   ]
  },
  {
   "cell_type": "markdown",
   "metadata": {},
   "source": [
    "Plot the histogram of the sampling distribution you have just collected:"
   ]
  },
  {
   "cell_type": "code",
   "execution_count": 11,
   "metadata": {},
   "outputs": [
    {
     "data": {
      "text/plain": [
       "(array([   7.,   75.,  461., 1514., 2968., 2957., 1496.,  447.,   70.,\n",
       "           5.]),\n",
       " array([0.46387833, 0.47490494, 0.48593156, 0.49695817, 0.50798479,\n",
       "        0.51901141, 0.53003802, 0.54106464, 0.55209125, 0.56311787,\n",
       "        0.57414449]),\n",
       " <a list of 10 Patch objects>)"
      ]
     },
     "execution_count": 11,
     "metadata": {},
     "output_type": "execute_result"
    },
    {
     "data": {
      "image/png": "[encoded data removed]",
      "text/plain": [
       "<Figure size 432x288 with 1 Axes>"
      ]
     },
     "metadata": {},
     "output_type": "display_data"
    }
   ],
   "source": [
    "#- plot the histogram of the sampling distribution\n",
    "plt.hist(proportions)"
   ]
  },
  {
   "cell_type": "markdown",
   "metadata": {},
   "source": [
    "The value we found in our survey data was 0.411.   How likely do you think\n",
    "that value is, given the sampling distribution you have just made?"
   ]
  }
 ],
 "metadata": {},
 "nbformat": 4,
 "nbformat_minor": 2
}