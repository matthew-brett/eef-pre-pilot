{
 "cells": [
  {
   "cell_type": "markdown",
   "metadata": {},
   "source": [
    "## and, or in expressions\n",
    "\n",
    "Imagine I had these variables:"
   ]
  },
  {
   "cell_type": "code",
   "execution_count": null,
   "metadata": {},
   "outputs": [],
   "source": [
    "my_number = 10\n",
    "my_name = \"Matthew\""
   ]
  },
  {
   "cell_type": "markdown",
   "metadata": {},
   "source": [
    "We are already familiar with expressions like these:"
   ]
  },
  {
   "cell_type": "code",
   "execution_count": null,
   "metadata": {},
   "outputs": [],
   "source": [
    "my_number == 10\n",
    "my_number == 9\n",
    "my_name == \"Matthew\""
   ]
  },
  {
   "cell_type": "markdown",
   "metadata": {},
   "source": [
    "We can combine expressions like these with `and` and `or`.\n",
    "\n",
    "Consider `and`. Here is an example:"
   ]
  },
  {
   "cell_type": "code",
   "execution_count": null,
   "metadata": {},
   "outputs": [],
   "source": [
    "my_number == 10 and my_name == \"Matthew\""
   ]
  },
  {
   "cell_type": "markdown",
   "metadata": {},
   "source": [
    "`and` takes a expression on the left and evaluates it.  If that statement is\n",
    "True, it then evaluates the statement on the right.  If both are True, the\n",
    "`and` expression results in True.  If either are False, it results in False.\n",
    "\n",
    "This is the same logic as we use in speech.  If I say “jump if the table is\n",
    "brown and the floor is gray”, when do you jump?  You only jump both of these\n",
    "are true: “the table is brown” and “the floor is gray”.  You don’t jump if the\n",
    "table is red and the floor is gray, or if the table is brown and the floor is\n",
    "white.  Both clauses have to be true."
   ]
  },
  {
   "cell_type": "code",
   "execution_count": null,
   "metadata": {},
   "outputs": [],
   "source": [
    "# Both clauses are True so the \"and\" is True\n",
    "my_number == 10 and my_name == \"Matthew\"\n",
    "# Only the left clause is True so the \"and\" is False\n",
    "my_number == 10 and my_name == \"John\"\n",
    "# Only the right clause is True so the \"and\" is False\n",
    "my_number == 9 and my_name == \"Matthew\""
   ]
  },
  {
   "cell_type": "markdown",
   "metadata": {},
   "source": [
    "Now consider `or`.  Here is an example:"
   ]
  },
  {
   "cell_type": "code",
   "execution_count": null,
   "metadata": {},
   "outputs": [],
   "source": [
    "my_number == 9 or my_name == \"Matthew\""
   ]
  },
  {
   "cell_type": "markdown",
   "metadata": {},
   "source": [
    "`or` takes an expression on the left and evalualates it.  If it is True, it\n",
    "stops and returns True.  Otherwise it continues and evaluates the experession\n",
    "on the right.  If this is True, it returns True, otherwise it returns False.\n",
    "\n",
    "This is also the same logic as we use in speech.  If I say “jump if the table\n",
    "is red or the floor is gray”, you jump *either* if the table is red, *or* if\n",
    "the floor is gray.  Only one of the two clauses has to be true."
   ]
  },
  {
   "cell_type": "code",
   "execution_count": null,
   "metadata": {},
   "outputs": [],
   "source": [
    "# Just the right clause is True, but that makes the \"or\" True\n",
    "my_number == 9 or my_name == \"Matthew\"\n",
    "# Just the left clause is True, but that makes the \"or\" True\n",
    "my_number == 10 or my_name == \"John\"\n",
    "# Both of these are True, so the \"or\" is True\n",
    "my_number == 10 or my_name == \"Matthew\"\n",
    "# Neither of these are True, so the \"or\" is False\n",
    "my_number == 9 or my_name == \"John\""
   ]
  }
 ],
 "metadata": {},
 "nbformat": 4,
 "nbformat_minor": 2
}