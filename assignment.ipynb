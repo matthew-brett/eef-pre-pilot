{
 "cells": [
  {
   "cell_type": "markdown",
   "metadata": {},
   "source": [
    "## Assignment\n",
    "\n",
    "<!-- notes\n",
    "\n",
    "Started to seem long-winded.  About 15 minutes. -->\n",
    "<!-- what we have to cover\n",
    "\n",
    "A variable as a name referring to something.\n",
    "LHS and RHS -->\n",
    "Here are two assignment statements:"
   ]
  },
  {
   "cell_type": "code",
   "execution_count": null,
   "metadata": {},
   "outputs": [],
   "source": [
    "a = 10"
   ]
  },
  {
   "cell_type": "code",
   "execution_count": null,
   "metadata": {},
   "outputs": [],
   "source": [
    "p = \"Matthew\""
   ]
  },
  {
   "cell_type": "markdown",
   "metadata": {},
   "source": [
    "Assignment statements are very common in coding, and we’ll spend some time\n",
    "trying to understand them.\n",
    "\n",
    "An assignment statement has two parts:\n",
    "\n",
    "* The Left Hand Side (LHS) - to the left of the equals sign.  For the two\n",
    "  statements above, the left hand sides are `a` and `p`, respectively.\n",
    "\n",
    "* The Right Hand Side (RHS) - to the right of the equals sign.  For the two\n",
    "  statements above, the right hand sides are `10` and `\"Matthew\"`\n",
    "  respectively.\n",
    "\n",
    "In an assignment statement, the LHS is the *name of a variable* - in this case\n",
    "`a` or `p`.\n",
    "\n",
    "The RHS is an *expression* - something that gives a value.  In this case the\n",
    "code `10` is an expression returning the value 10, and the code\n",
    "`\"Matthew\"` returns the text *string* “Matthew”.\n",
    "\n",
    "When you learn programming, and even when you get a lot of experience, it is\n",
    "useful to read to yourself what the code is doing.\n",
    "\n",
    "In the cells above, we are *setting* a *variable* (named on the LHS) to have\n",
    "a *value* (returned from the expression on the RHS).\n",
    "\n",
    "It can be helpful to read the statement above in a verbose way to be clear\n",
    "what they are doing. For example, we can read `a = 10` as “Make the name\n",
    "`a` refer to the number `10`.  After this statement, we can say that\n",
    "*variable* (name) `a` has *value* (refers to) the number `10`.\n",
    "\n",
    "Read `p = \"Matthew\"` as “Make the name `p` refer to the string “Matthew”.\n",
    "Variable `p` then has value “Matthew”.\n",
    "\n",
    "So far we have only used expressions that are simple values.  We can also use\n",
    "more complicated expressions:"
   ]
  },
  {
   "cell_type": "code",
   "execution_count": null,
   "metadata": {},
   "outputs": [],
   "source": [
    "b = 2 + 3"
   ]
  },
  {
   "cell_type": "markdown",
   "metadata": {},
   "source": [
    "Read this as “Make `b` refer to the result of adding 2 and 3”.\n",
    "\n",
    "The great advantage of variables, is that they can be used in expressions.\n",
    "For example:"
   ]
  },
  {
   "cell_type": "code",
   "execution_count": null,
   "metadata": {},
   "outputs": [],
   "source": [
    "c = a"
   ]
  },
  {
   "cell_type": "markdown",
   "metadata": {},
   "source": [
    "Read this as “Make `c` refer to the value in `a`”.\n",
    "\n",
    "Or:"
   ]
  },
  {
   "cell_type": "code",
   "execution_count": null,
   "metadata": {},
   "outputs": [],
   "source": [
    "d = a + b"
   ]
  },
  {
   "cell_type": "markdown",
   "metadata": {},
   "source": [
    "Read this as “Make `d` refer to the result of adding the value in `a` to\n",
    "the value in `b`”.\n",
    "\n",
    "Remember, an assignment consists of LHS `=` RHS, where LHS is the name of\n",
    "a variable, and RHS is an expression returning a value.\n",
    "\n",
    "If we just want to see the result of an expression, we can do this in Jupyter,\n",
    "by putting the RHS expression on its own at the end of the cell.  For example,\n",
    "here’s the result of the expression `15`:"
   ]
  },
  {
   "cell_type": "code",
   "execution_count": null,
   "metadata": {},
   "outputs": [],
   "source": [
    "15"
   ]
  },
  {
   "cell_type": "markdown",
   "metadata": {},
   "source": [
    "The *expression* `15` returns the number 15.  Now we have set `a` to point\n",
    "to the value 10, here is what we get with the *expression* `a`:"
   ]
  },
  {
   "cell_type": "code",
   "execution_count": null,
   "metadata": {},
   "outputs": [],
   "source": [
    "a"
   ]
  },
  {
   "cell_type": "markdown",
   "metadata": {},
   "source": [
    "The expression `a` returns the value referred to by `a`.\n",
    "\n",
    "We can do assignments in the same cell, and follow them by a RHS expression on\n",
    "its own, and we will still see the value:"
   ]
  },
  {
   "cell_type": "code",
   "execution_count": null,
   "metadata": {},
   "outputs": [],
   "source": [
    "d = 24 * 2\n",
    "d"
   ]
  },
  {
   "cell_type": "markdown",
   "metadata": {},
   "source": [
    "To repeat, an assignment is a variable name on the LHS, followed by `=`,\n",
    "followed by an expression on the RHS.  Without typing this in, what do you\n",
    "think you will see for these.  Explain why."
   ]
  },
  {
   "cell_type": "code",
   "execution_count": null,
   "metadata": {},
   "outputs": [],
   "source": [
    "e = 3 * 10\n",
    "e  #doctest: +SKIP"
   ]
  },
  {
   "cell_type": "code",
   "execution_count": null,
   "metadata": {},
   "outputs": [],
   "source": [
    "f = e * 3\n",
    "f  #doctest: +SKIP"
   ]
  },
  {
   "cell_type": "code",
   "execution_count": null,
   "metadata": {},
   "outputs": [],
   "source": [
    "\"g\" = \"Interesting\"  #doctest: +SKIP"
   ]
  },
  {
   "cell_type": "code",
   "execution_count": null,
   "metadata": {},
   "outputs": [],
   "source": [
    "5 = 3   #doctest: +SKIP\n",
    "5  #doctest: +SKIP"
   ]
  }
 ],
 "metadata": {},
 "nbformat": 4,
 "nbformat_minor": 2
}