{
 "cells": [
  {
   "cell_type": "markdown",
   "metadata": {},
   "source": [
    "## Three girls\n",
    "\n",
    "We will use the `choice` function from the  `random` module."
   ]
  },
  {
   "cell_type": "code",
   "execution_count": null,
   "metadata": {},
   "outputs": [],
   "source": [
    "import random"
   ]
  },
  {
   "cell_type": "markdown",
   "metadata": {},
   "source": [
    "This is a module:"
   ]
  },
  {
   "cell_type": "code",
   "execution_count": null,
   "metadata": {},
   "outputs": [],
   "source": [
    "type(random)"
   ]
  },
  {
   "cell_type": "markdown",
   "metadata": {},
   "source": [
    "Use `random.` and then Tab to see the functions inside the module, from\n",
    "within the Notebook.\n",
    "\n",
    "We will use `random.choice`, a function within the `random` module.\n",
    "\n",
    "You can check the help with `random.choice?` in the Notebook.\n",
    "\n",
    "Here we ask it to choose randomly between the two letters in the string,\n",
    "`\"HT\"`:"
   ]
  },
  {
   "cell_type": "code",
   "execution_count": null,
   "metadata": {},
   "outputs": [],
   "source": [
    "random.choice('HT')\n",
    "random.choice('HT')\n",
    "random.choice('HT')\n",
    "random.choice('HT')"
   ]
  },
  {
   "cell_type": "markdown",
   "metadata": {},
   "source": [
    "A coin toss!\n",
    "\n",
    "Now we have everything we need to solve the problem:"
   ]
  },
  {
   "cell_type": "code",
   "execution_count": null,
   "metadata": {},
   "outputs": [],
   "source": [
    "# Make a counter to store how many times we have 3 girls\n",
    "girl_counts = []"
   ]
  },
  {
   "cell_type": "code",
   "execution_count": null,
   "metadata": {},
   "outputs": [],
   "source": [
    "# Make 10000 families\n",
    "for i in range(10000):\n",
    "    # Make one family\n",
    "    family = []\n",
    "    # Have 4 children\n",
    "    for j in range(4):\n",
    "        child = random.choice('GB')\n",
    "        family.append(child)\n",
    "    girl_counts.append(family.count('G'))\n",
    "\n",
    "proportion = girl_counts.count(3) / 10000"
   ]
  },
  {
   "cell_type": "code",
   "execution_count": null,
   "metadata": {},
   "outputs": [],
   "source": [
    "proportion"
   ]
  }
 ],
 "metadata": {},
 "nbformat": 4,
 "nbformat_minor": 2
}