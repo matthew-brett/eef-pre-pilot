{
 "cells": [
  {
   "cell_type": "markdown",
   "metadata": {},
   "source": [
    "## Print, If and For\n",
    "\n",
    "### Print\n",
    "\n",
    "`print` is useful function:"
   ]
  },
  {
   "cell_type": "code",
   "execution_count": null,
   "metadata": {},
   "outputs": [],
   "source": [
    "type(print)"
   ]
  },
  {
   "cell_type": "markdown",
   "metadata": {},
   "source": [
    "It prints out the values that you pass it, such as strings or numbers."
   ]
  },
  {
   "cell_type": "code",
   "execution_count": null,
   "metadata": {},
   "outputs": [],
   "source": [
    "print(10)\n",
    "my_name = \"Matthew\"\n",
    "print(my_name)"
   ]
  },
  {
   "cell_type": "markdown",
   "metadata": {},
   "source": [
    "This can be useful in the Notebook to show values as we execute things within\n",
    "a cell.\n",
    "\n",
    "<!-- for as \"do something N times\"\n",
    "if -->\n",
    "# If\n",
    "\n",
    "We have already seen *assignment* statements ([Assignment](https://matthew-brett.github.io/les-pilot/assignment.html)).  We saw that\n",
    "they have the form: LHS `=` RHS, where the LHS is a variable name and the\n",
    "RHS is an expression.\n",
    "\n",
    "We saw expressions on their own at the end of Notebook cells, to show us a\n",
    "value.\n",
    "\n",
    "Now we add a couple of essential statements you will use all the time: `if`\n",
    "statements and `for` statements.\n",
    "\n",
    "Here is an `if` statement:"
   ]
  },
  {
   "cell_type": "code",
   "execution_count": null,
   "metadata": {},
   "outputs": [],
   "source": [
    "x = 3\n",
    "if x == 3:\n",
    "    print(\"x does equal 3\")\n"
   ]
  },
  {
   "cell_type": "markdown",
   "metadata": {},
   "source": [
    "There are a few new things here.  This `if` statement has the form:\n",
    "\n",
    "* `if` followed by\n",
    "\n",
    "* an expression (`x == 3`) followed by\n",
    "\n",
    "* `:` (a colon) followed by\n",
    "\n",
    "* an indented *block* of code (\\`\\`    print(“x does equal 3”)\\`\\`)\n",
    "\n",
    "Remeber that an expression evaluates to a result.  The trick of the `if`\n",
    "statement, is that it will only run the indented block of code above, if the\n",
    "expression evaluates to True.  Try it.  Run the code above.  Now try:"
   ]
  },
  {
   "cell_type": "code",
   "execution_count": null,
   "metadata": {},
   "outputs": [],
   "source": [
    "x = 4\n",
    "if x == 3:\n",
    "    print(\"x does equal 3\")\n"
   ]
  },
  {
   "cell_type": "markdown",
   "metadata": {},
   "source": [
    "It doesn’t print anything because `x == 3` is False.\n",
    "\n",
    "Next notice that Python knows which code to run, when `x == 3` is True,\n",
    "because of the *indentation*.   It runs all the code that is indented, when\n",
    "`x == 3` is True, and ignores that code otherwise.  There can be several\n",
    "lines in the indented block, but they all have to be indented the same amount:"
   ]
  },
  {
   "cell_type": "code",
   "execution_count": null,
   "metadata": {},
   "outputs": [],
   "source": [
    "x = 3\n",
    "if x == 3:\n",
    "    print(\"Here in the if block\")\n",
    "    print(\"x does equal 3\")\n",
    "    print(\"Still in if block\")\n"
   ]
  },
  {
   "cell_type": "markdown",
   "metadata": {},
   "source": [
    "Now an exercise.  For this exercise, you will need the *modulo* operator:\n",
    "`%`.  In an expression it returns the remainder of dividing the number on\n",
    "the left by the number on the right.  Here are some examples:"
   ]
  },
  {
   "cell_type": "code",
   "execution_count": null,
   "metadata": {},
   "outputs": [],
   "source": [
    "3 % 2\n",
    "4 % 2\n",
    "13 % 3\n",
    "13 % 13"
   ]
  },
  {
   "cell_type": "markdown",
   "metadata": {},
   "source": [
    "The exercise is to write an `if` statement that prints “yes” if the number\n",
    "`x` is exactly divisible by 7, and prints nothing otherwise.  Test your code\n",
    "by setting various values of `x`, and running the cell.\n",
    "\n",
    "What happens if you forget the colon `:` at the end of the `if` line?\n",
    "\n",
    "What happens if you forget to indent the block?\n",
    "\n",
    "# For loops\n",
    "\n",
    "As we’ve seen by now, we often want to repeat the same thing multiple times.\n",
    "The way we usually do this in Python is using a `for` loop.  A for loop\n",
    "looks like this:"
   ]
  },
  {
   "cell_type": "code",
   "execution_count": null,
   "metadata": {},
   "outputs": [],
   "source": [
    "for i in range(10):\n",
    "    print(i)\n"
   ]
  },
  {
   "cell_type": "markdown",
   "metadata": {},
   "source": [
    "There are several new things here.  Notice `range(10)`.  This looks like a\n",
    "function, and it looks like it returns 10 numbers, starting at 0 and\n",
    "continuing through to 9.   That’s good enough for our purposes.\n",
    "\n",
    "Next we see that the for statement is rather like the `if` statement.  It\n",
    "has form:\n",
    "\n",
    "* `for` followed by\n",
    "\n",
    "* a variable name (in this case `i`, called the *loop variable*) followed\n",
    "  by:\n",
    "\n",
    "* an expression that retuns a series of things (`range(10)` returns a series\n",
    "  of numbers from 0 through 9) followed by:\n",
    "\n",
    "* `:` (a colon) followed by\n",
    "\n",
    "* an indented *block* of code (\\`\\`    print(i)\\`\\`)\n",
    "\n",
    "For statments are just a little more complicated than  statements, and it\n",
    "is worth going through the logic carefully.  Read the for statement above like\n",
    "this:\n",
    "\n",
    "* in the first iteration of the loop, set `i` to have value 0.  Then print\n",
    "  `i`;\n",
    "\n",
    "* in the second iteration of the loop, set `i` to have value 1.  Then print\n",
    "  `i`;\n",
    "\n",
    "* in the third iteration of the loop, set `i` to have value 2.  Then print\n",
    "  `i`;\n",
    "\n",
    "and so on.\n",
    "\n",
    "Let’s try some exercises.\n",
    "\n",
    "Use a `for` loop to add up all the numbers between 0 and 10.\n",
    "\n",
    "Use a `for` loop to count how many numbers from 0 through 99 that are\n",
    "divisible by both 7 and 4."
   ]
  }
 ],
 "metadata": {},
 "nbformat": 4,
 "nbformat_minor": 2
}